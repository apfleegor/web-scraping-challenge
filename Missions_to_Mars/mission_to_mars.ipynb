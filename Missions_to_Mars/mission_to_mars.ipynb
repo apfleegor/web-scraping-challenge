{
 "cells": [
  {
   "cell_type": "code",
   "execution_count": 1,
   "id": "abe2496c",
   "metadata": {},
   "outputs": [],
   "source": [
    "# import dependencies\n",
    "import requests\n",
    "from bs4 import BeautifulSoup\n",
    "import pymongo\n",
    "import pandas as pd\n",
    "\n",
    "# import splinter\n",
    "from splinter import Browser\n",
    "from webdriver_manager.chrome import ChromeDriverManager "
   ]
  },
  {
   "cell_type": "code",
   "execution_count": 2,
   "id": "635648a7",
   "metadata": {},
   "outputs": [],
   "source": []
  },
  {
   "cell_type": "markdown",
   "id": "fc045aa3",
   "metadata": {},
   "source": [
    "### NASA Mars News"
   ]
  },
  {
   "cell_type": "code",
   "execution_count": 3,
   "id": "457b0ab2",
   "metadata": {},
   "outputs": [],
   "source": [
    "# go to the mars news site and extract the title and paragraph for the first news article\n",
    "\n",
    "# setup splinter\n",
    "executable_path = {'executable_path': ChromeDriverManager().install()}\n",
    "browser = Browser('chrome', **executable_path, headless=False)\n",
    "\n",
    "# mars news site url\n",
    "url = \"https://www.redplanetscience.com\"\n",
    "\n",
    "# use splinter to visit url\n",
    "browser.visit(url)\n",
    "\n",
    "# parse the page with beautiful soup\n",
    "html = browser.html\n",
    "soup = BeautifulSoup(html, \"html.parser\")"
   ]
  },
  {
   "cell_type": "code",
   "execution_count": 4,
   "id": "ab226d92",
   "metadata": {},
   "outputs": [],
   "source": [
    "# get the first title\n",
    "header = soup.find(\"div\", class_=\"content_title\")\n",
    "news_title = header.text\n",
    "\n",
    "# get the first title's corresponding paragraph\n",
    "paragraph = soup.find(\"div\", class_=\"article_teaser_body\")\n",
    "news_p = paragraph.text\n",
    "\n",
    "# quit the browser\n",
    "browser.quit()"
   ]
  },
  {
   "cell_type": "markdown",
   "id": "8df682e2",
   "metadata": {},
   "source": [
    "### JPL Mars Space Images—Featured Image"
   ]
  },
  {
   "cell_type": "code",
   "execution_count": 6,
   "id": "a1015fe4",
   "metadata": {},
   "outputs": [],
   "source": [
    "# go to the jpl mars space images website and get the featured image url\n",
    "\n",
    "# setup splinter\n",
    "executable_path = {'executable_path': ChromeDriverManager().install()}\n",
    "browser = Browser('chrome', **executable_path, headless=False)\n",
    "\n",
    "# jpl mars space images url\n",
    "url = \"https://spaceimages-mars.com/\"\n",
    "\n",
    "# use splinter to visit url\n",
    "browser.visit(url)\n",
    "\n",
    "# parse the page with beautiful soup\n",
    "html = browser.html\n",
    "soup = BeautifulSoup(html, \"html.parser\")"
   ]
  },
  {
   "cell_type": "code",
   "execution_count": 8,
   "id": "b1941a45",
   "metadata": {},
   "outputs": [],
   "source": [
    "# find the tag for the featured image\n",
    "image = soup.find(\"img\", class_=\"headerimage fade-in\")\n",
    "\n",
    "# get the relative link\n",
    "relative_link = image['src']\n",
    "\n",
    "# add the relative url to the main url\n",
    "featured_image_url = url + relative_link\n",
    "\n",
    "# quit the browser\n",
    "browser.quit()"
   ]
  },
  {
   "cell_type": "markdown",
   "id": "9d375a1b",
   "metadata": {},
   "source": [
    "### Mars Facts"
   ]
  },
  {
   "cell_type": "code",
   "execution_count": 9,
   "id": "1b07611c",
   "metadata": {},
   "outputs": [
    {
     "data": {
      "text/plain": [
       "[                         0                1                2\n",
       " 0  Mars - Earth Comparison             Mars            Earth\n",
       " 1                Diameter:         6,779 km        12,742 km\n",
       " 2                    Mass:  6.39 × 10^23 kg  5.97 × 10^24 kg\n",
       " 3                   Moons:                2                1\n",
       " 4       Distance from Sun:   227,943,824 km   149,598,262 km\n",
       " 5          Length of Year:   687 Earth days      365.24 days\n",
       " 6             Temperature:     -87 to -5 °C      -88 to 58°C,\n",
       "                       0                              1\n",
       " 0  Equatorial Diameter:                       6,792 km\n",
       " 1       Polar Diameter:                       6,752 km\n",
       " 2                 Mass:  6.39 × 10^23 kg (0.11 Earths)\n",
       " 3                Moons:          2 ( Phobos & Deimos )\n",
       " 4       Orbit Distance:       227,943,824 km (1.38 AU)\n",
       " 5         Orbit Period:           687 days (1.9 years)\n",
       " 6  Surface Temperature:                   -87 to -5 °C\n",
       " 7         First Record:              2nd millennium BC\n",
       " 8          Recorded By:           Egyptian astronomers]"
      ]
     },
     "execution_count": 9,
     "metadata": {},
     "output_type": "execute_result"
    }
   ],
   "source": [
    "# go to the mars facts website and get the table with facts\n",
    "\n",
    "# mars facts site url\n",
    "url = \"https://galaxyfacts-mars.com/\"\n",
    "\n",
    "# use pandas to scrape the site for tables\n",
    "table = pd.read_html(url)\n",
    "\n",
    "# check to see what tables pandas got -- we want the second table\n",
    "print(table)\n",
    "\n",
    "# create a dataframe with the table\n",
    "df = table[1]\n",
    "print(df)"
   ]
  },
  {
   "cell_type": "code",
   "execution_count": 11,
   "id": "a7a74d62",
   "metadata": {},
   "outputs": [],
   "source": [
    "# convert the dataframe into a html table string\n",
    "html_table = df.to_html()\n",
    "\n",
    "# remove the \\n\n",
    "html_table = html_table.replace('\\n', '') "
   ]
  },
  {
   "cell_type": "markdown",
   "id": "83389a96",
   "metadata": {},
   "source": [
    "### Mars Hemispheres"
   ]
  },
  {
   "cell_type": "code",
   "execution_count": 12,
   "id": "15d30aef",
   "metadata": {},
   "outputs": [],
   "source": [
    "# visit the astrogeology website to get images for each mars hemisphere\n",
    "\n",
    "# setup splinter\n",
    "executable_path = {'executable_path': ChromeDriverManager().install()}\n",
    "browser = Browser('chrome', **executable_path, headless=False)\n",
    "\n",
    "# astrogeology site url\n",
    "url = \"https://marshemispheres.com/\"\n",
    "\n",
    "# use splinter to visit url\n",
    "browser.visit(url)\n",
    "\n",
    "# parse the page with beautiful soup\n",
    "html = browser.html\n",
    "soup = BeautifulSoup(html, \"html.parser\")"
   ]
  },
  {
   "cell_type": "code",
   "execution_count": 15,
   "id": "913af389",
   "metadata": {},
   "outputs": [],
   "source": [
    "def extract_img (url):\n",
    "    \n",
    "    #browser.quit()\n",
    "    executable_path = {'executable_path': ChromeDriverManager().install()}\n",
    "    browser = Browser('chrome', **executable_path, headless=False)\n",
    "    \n",
    "    browser.visit(url)\n",
    "    \n",
    "    html = browser.html\n",
    "    soup = BeautifulSoup(html, \"html.parser\")\n",
    "    \n",
    "    link = soup.find(\"div\", class_=\"downloads\").find(\"li\")\n",
    "    link = link.a.get(\"href\")\n",
    "    \n",
    "    browser.quit()\n",
    "    \n",
    "    return link"
   ]
  },
  {
   "cell_type": "code",
   "execution_count": 16,
   "id": "6a9e3d55",
   "metadata": {},
   "outputs": [
    {
     "name": "stdout",
     "output_type": "stream",
     "text": [
      "Cerberus Hemisphere\n",
      "Schiaparelli Hemisphere\n",
      "Syrtis Major Hemisphere\n",
      "Valles Marineris Hemisphere\n"
     ]
    }
   ],
   "source": [
    "# find all the tags with the class itemLink product-item\n",
    "hemi_links = soup.find_all(\"a\", class_=\"itemLink product-item\")\n",
    "\n",
    "# quit the browser\n",
    "browser.quit()\n",
    "\n",
    "# create list for dictionaries with urls to go in\n",
    "hemisphere_image_urls = []\n",
    "\n",
    "# for each result\n",
    "for hemi in hemi_links:\n",
    "\n",
    "    if (hemi.h3):\n",
    "        \n",
    "        if (hemi.h3.text != \"Back\"):\n",
    "        \n",
    "            title = hemi.h3.text\n",
    "            title = title.replace(' Enhanced', '') \n",
    "            print(title)\n",
    "            #figure out how to get back out of it\n",
    "                \n",
    "            if (hemi.get(\"href\")):\n",
    "                href = hemi.get(\"href\")\n",
    "                new_url = url + href\n",
    "        \n",
    "                new_href = extract_img(new_url)\n",
    "            \n",
    "                img_url = url + new_href\n",
    "\n",
    "        \n",
    "                image_dict = {\"title\": title,\n",
    "                             \"img_url\": img_url}\n",
    "                hemisphere_image_urls.append(image_dict)\n"
   ]
  },
  {
   "cell_type": "code",
   "execution_count": 18,
   "id": "36eadcfc",
   "metadata": {},
   "outputs": [
    {
     "name": "stdout",
     "output_type": "stream",
     "text": [
      "[{'title': 'Cerberus Hemisphere', 'img_url': 'https://marshemispheres.com/images/full.jpg'}, {'title': 'Schiaparelli Hemisphere', 'img_url': 'https://marshemispheres.com/images/schiaparelli_enhanced-full.jpg'}, {'title': 'Syrtis Major Hemisphere', 'img_url': 'https://marshemispheres.com/images/syrtis_major_enhanced-full.jpg'}, {'title': 'Valles Marineris Hemisphere', 'img_url': 'https://marshemispheres.com/images/valles_marineris_enhanced-full.jpg'}]\n"
     ]
    }
   ],
   "source": [
    "print(hemisphere_image_urls)"
   ]
  },
  {
   "cell_type": "code",
   "execution_count": null,
   "id": "92dc9b5d",
   "metadata": {},
   "outputs": [],
   "source": []
  }
 ],
 "metadata": {
  "kernelspec": {
   "display_name": "Python 3 (ipykernel)",
   "language": "python",
   "name": "python3"
  },
  "language_info": {
   "codemirror_mode": {
    "name": "ipython",
    "version": 3
   },
   "file_extension": ".py",
   "mimetype": "text/x-python",
   "name": "python",
   "nbconvert_exporter": "python",
   "pygments_lexer": "ipython3",
   "version": "3.8.13"
  }
 },
 "nbformat": 4,
 "nbformat_minor": 5
}
